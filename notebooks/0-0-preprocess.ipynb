{
 "cells": [
  {
   "cell_type": "markdown",
   "metadata": {},
   "source": [
    "##### This notebook can be used to preprocess any data that is used by the following notebooks. It is higly individual and does not contain any generic funcions. When data from another studios are altered we can not directly write to it as they are mounted in read only. When mounting as readwrite, copying to another studio is possibel with sudo, but the files will not appear in the other studio as it would be created as \"this_studio\". Therefore the files that are adapted have to be downloaded and manually be uploaded into the other studios."
   ]
  },
  {
   "cell_type": "code",
   "execution_count": 1,
   "metadata": {},
   "outputs": [],
   "source": [
    "import mikeio\n",
    "import pandas as pd\n",
    "import numpy as np\n",
    "import matplotlib.pyplot as plt\n",
    "\n",
    "from mikeio import EUMType, EUMUnit, ItemInfo"
   ]
  }
 ],
 "metadata": {
  "kernelspec": {
   "display_name": "cloudspace",
   "language": "python",
   "name": "python3"
  },
  "language_info": {
   "codemirror_mode": {
    "name": "ipython",
    "version": 3
   },
   "file_extension": ".py",
   "mimetype": "text/x-python",
   "name": "python",
   "nbconvert_exporter": "python",
   "pygments_lexer": "ipython3",
   "version": "3.10.10"
  }
 },
 "nbformat": 4,
 "nbformat_minor": 2
}
