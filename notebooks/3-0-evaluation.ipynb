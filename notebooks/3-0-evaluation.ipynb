{
 "cells": [
  {
   "cell_type": "markdown",
   "metadata": {},
   "source": [
    "## Description\n",
    "##### This script supports comparing model results with measurements (comparison) and inspects model results when measurements are not available (inspection). \n",
    "\n",
    "The following postprocessing is currently available for comparison:\n",
    "- Timeseries comparison (subplot of direct comparison and deviation of the model and measurement)\n",
    "- Scatter plot with performance metrics, quantiles and linearly fitted line.\n",
    "- Overview Plots with all measurement stations. It takes the mesh of the model as a base and puts sattelite imagery as a background.\n",
    "- Create skill tabels with performance metrics (BIAS, RMSE, URMSE, MEA, CC, SI, R2). There tabels are written to .xlsx file.\n",
    "\n",
    "The following postprocessing is currently available for inspection:\n",
    "- Timeseries plot\n",
    "\n",
    "The plots are all written to a summary PowerPoint that helps to facilitate the presentation to the client."
   ]
  },
  {
   "cell_type": "markdown",
   "metadata": {},
   "source": [
    "## ToDo (in postprocessing.py)\n",
    "- Make a Plot overview and xls writer class (currently still functions)\n",
    "- Add possibility to write xls directly to the presentation\n",
    "- Generalize some of the plotting descriptions. Currently the description has to be set for each of the plot classes, but share a lot.\n",
    "- Generalize PowerPoint class. Currently to add a slide you call add_comparison_slide() or add_inspection_slide, but it would be preferred to rename to add_two_picture_slide() and add_one_picture_slide(), to make usage outside of the current framework comfortable.\n",
    "- Think about integration of dfs1 and dfs2 postprocessing"
   ]
  },
  {
   "cell_type": "code",
   "execution_count": 1,
   "metadata": {},
   "outputs": [],
   "source": [
    "import mikeio\n",
    "import modelskill as ms\n",
    "from pathlib import Path\n",
    "ms.settings.load_style(name=\"MOOD\")\n",
    "from autoeval.postprocessing import PostProcessor\n",
    "from autoeval.io import Configuration, QuantileInput\n",
    "from autoeval.utils import inspect_dfs0"
   ]
  },
  {
   "cell_type": "markdown",
   "metadata": {},
   "source": [
    "## User Input\n",
    "##### Here we define some parameters that are needed in the postprocessing"
   ]
  },
  {
   "cell_type": "code",
   "execution_count": 2,
   "metadata": {},
   "outputs": [],
   "source": [
    "config = Configuration(identifier = \"Validierung\",\n",
    "                          file_mesh= \"/teamspace/studios/1-0-stroemungsatlas-simulation-final/stroemungsatlas/misc_data/opcis_2023.mesh\",\n",
    "                          language = \"de\",\n",
    "                          )\n",
    "\n",
    "FOLDER_MODEL = \"/teamspace/studios/1-0-stroemungsatlas-simulation-final/stroemungsatlas/simulations/vali/vali.m3fm - Result Files/\" # foolder with the result files\n",
    "FOLDER_OBSERVATION = \"/teamspace/studios/1-0-stroemungsatlas-simulation-final/stroemungsatlas/misc_data/observations/\" # folder with the observation files\n",
    "TIME_INTERVAL = [\"2022-02-14 00:00:00\", \"2022-02-20 00:00:00\"]"
   ]
  },
  {
   "cell_type": "markdown",
   "metadata": {},
   "source": [
    "##### Here we display the columns from the modelled .dfs0 file in order to find the item number of the respective observation stations that is needed in the InputDataCollection. If the measured observations are also saved in a single file, the same can be done.\n"
   ]
  },
  {
   "cell_type": "code",
   "execution_count": 3,
   "metadata": {},
   "outputs": [
    {
     "name": "stdout",
     "output_type": "stream",
     "text": [
      "Item: 0 Bunthaus: Surface elevation\n",
      "Item: 1 Schoepfstelle: Surface elevation\n",
      "Item: 2 Harburg: Surface elevation\n",
      "Item: 3 Sankt Pauli: Surface elevation\n",
      "Item: 4 Seemannshoeft: Surface elevation\n",
      "Item: 5 Blankenese: Surface elevation\n",
      "Item: 6 Koehlbrandhoeft: Surface elevation\n"
     ]
    }
   ],
   "source": [
    "inspect_dfs0(Path(FOLDER_MODEL) /\"resultsSurfaceElevation.dfs0\")"
   ]
  },
  {
   "cell_type": "markdown",
   "metadata": {},
   "source": [
    "##### Here the Input data for the observation stations (measured and modelled) is defined\n"
   ]
  },
  {
   "cell_type": "code",
   "execution_count": 4,
   "metadata": {},
   "outputs": [],
   "source": [
    "data = PostProcessor(config = config)\n",
    "\n",
    "data.add_input(\n",
    "    model_file =  f\"{FOLDER_MODEL}resultsSurfaceElevation.dfs0\",\n",
    "    model_item = 5,\n",
    "    x = 552662,\n",
    "    y = 5934417,\n",
    "    name = \"Blankenese\",\n",
    "    time_interval = TIME_INTERVAL\n",
    ")\n",
    "data.add_input(\n",
    "    observation_file = f\"{FOLDER_OBSERVATION}obs_Blankenese_01Min_3.dfs0\",\n",
    "    observation_item = 0,\n",
    "    model_file =  f\"{FOLDER_MODEL}resultsSurfaceElevation.dfs0\",\n",
    "    model_item = 5,\n",
    "    x = 552662,\n",
    "    y = 5934417,\n",
    "    name = \"Blankenese\",\n",
    "    time_interval = TIME_INTERVAL\n",
    ")\n",
    "data.add_input(\n",
    "    observation_file = f\"{FOLDER_OBSERVATION}2022_02_HADCP_FIW_adapted.dfs0\",\n",
    "    observation_item = 1,\n",
    "    model_file = f\"{FOLDER_MODEL}Finkenwerder_discharge.dfs0\",\n",
    "    model_item = 0,\n",
    "    x = 556288,\n",
    "    y = 5933395,\n",
    "    name = \"Finkenwerder\",\n",
    "    time_interval = TIME_INTERVAL\n",
    ")\n",
    "data.add_input(\n",
    "    observation_file = f\"{FOLDER_OBSERVATION}2022_02_HADCP_FIW_adapted.dfs0\",\n",
    "    observation_item = 0,\n",
    "    model_file = f\"{FOLDER_MODEL}Finkenwerder_current_speed.dfs0\",\n",
    "    model_item = 0,\n",
    "    model_quantiles_input = QuantileInput(item_1=1, item_2=2, label_1=\"10%\", label_2=\"90%\"), \n",
    "    x = 556288,\n",
    "    y = 5933395,\n",
    "    name = \"Finkenwerder\",\n",
    "    time_interval = TIME_INTERVAL\n",
    ")\n",
    "data.add_input(\n",
    "    model_file = f\"{FOLDER_MODEL}Finkenwerder_current_speed.dfs0\",\n",
    "    model_item = 0,\n",
    "    model_quantiles_input = QuantileInput(item_1=1, item_2=2, label_1=\"10%\", label_2=\"90%\"), \n",
    "    x = 556288,\n",
    "    y = 5933395,\n",
    "    name = \"Finkenwerder\",\n",
    "    time_interval = TIME_INTERVAL\n",
    ")"
   ]
  },
  {
   "cell_type": "markdown",
   "metadata": {},
   "source": [
    "\n",
    "## Postprocessing\n"
   ]
  },
  {
   "cell_type": "markdown",
   "metadata": {},
   "source": [
    "##### Here we process the input data. The processing checks wether an input can be used for comparison (input.comparison) or for inspection only (input.inspection). The respective input data is automatically grouped by the underlying quantities (Surface Elevation, Discharge, ...)."
   ]
  },
  {
   "cell_type": "code",
   "execution_count": null,
   "metadata": {},
   "outputs": [],
   "source": [
    "## Process the input data\n",
    "data.process()"
   ]
  }
 ],
 "metadata": {
  "kernelspec": {
   "display_name": "cloudspace",
   "language": "python",
   "name": "python3"
  },
  "language_info": {
   "codemirror_mode": {
    "name": "ipython",
    "version": 3
   },
   "file_extension": ".py",
   "mimetype": "text/x-python",
   "name": "python",
   "nbconvert_exporter": "python",
   "pygments_lexer": "ipython3",
   "version": "3.10.10"
  }
 },
 "nbformat": 4,
 "nbformat_minor": 2
}
